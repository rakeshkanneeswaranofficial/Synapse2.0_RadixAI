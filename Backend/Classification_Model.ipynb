{
 "cells": [
  {
   "cell_type": "code",
   "execution_count": 2,
   "metadata": {},
   "outputs": [
    {
     "name": "stdout",
     "output_type": "stream",
     "text": [
      "Requirement already satisfied: flask-cors in c:\\users\\djsma\\anaconda3\\lib\\site-packages (4.0.0)\n",
      "Requirement already satisfied: opencv-python in c:\\users\\djsma\\anaconda3\\lib\\site-packages (4.9.0.80)\n",
      "Requirement already satisfied: matplotlib in c:\\users\\djsma\\anaconda3\\lib\\site-packages (3.7.1)\n",
      "Requirement already satisfied: Flask in c:\\users\\djsma\\anaconda3\\lib\\site-packages (2.2.5)\n",
      "Requirement already satisfied: pyngrok in c:\\users\\djsma\\anaconda3\\lib\\site-packages (7.1.2)\n",
      "Requirement already satisfied: numpy in c:\\users\\djsma\\anaconda3\\lib\\site-packages (1.26.4)\n",
      "Requirement already satisfied: requests in c:\\users\\djsma\\anaconda3\\lib\\site-packages (2.31.0)\n",
      "Requirement already satisfied: pybase64 in c:\\users\\djsma\\anaconda3\\lib\\site-packages (1.3.2)\n",
      "Requirement already satisfied: google-generativeai in c:\\users\\djsma\\anaconda3\\lib\\site-packages (0.3.2)\n",
      "Requirement already satisfied: contourpy>=1.0.1 in c:\\users\\djsma\\anaconda3\\lib\\site-packages (from matplotlib) (1.2.0)\n",
      "Requirement already satisfied: cycler>=0.10 in c:\\users\\djsma\\anaconda3\\lib\\site-packages (from matplotlib) (0.11.0)\n",
      "Requirement already satisfied: fonttools>=4.22.0 in c:\\users\\djsma\\anaconda3\\lib\\site-packages (from matplotlib) (4.25.0)\n",
      "Requirement already satisfied: kiwisolver>=1.0.1 in c:\\users\\djsma\\anaconda3\\lib\\site-packages (from matplotlib) (1.4.4)\n",
      "Requirement already satisfied: packaging>=20.0 in c:\\users\\djsma\\anaconda3\\lib\\site-packages (from matplotlib) (23.2)\n",
      "Requirement already satisfied: pillow>=6.2.0 in c:\\users\\djsma\\anaconda3\\lib\\site-packages (from matplotlib) (10.2.0)\n",
      "Requirement already satisfied: pyparsing>=2.3.1 in c:\\users\\djsma\\anaconda3\\lib\\site-packages (from matplotlib) (3.0.9)\n",
      "Requirement already satisfied: python-dateutil>=2.7 in c:\\users\\djsma\\anaconda3\\lib\\site-packages (from matplotlib) (2.8.2)\n",
      "Requirement already satisfied: Werkzeug>=2.2.2 in c:\\users\\djsma\\anaconda3\\lib\\site-packages (from Flask) (2.2.3)\n",
      "Requirement already satisfied: Jinja2>=3.0 in c:\\users\\djsma\\anaconda3\\lib\\site-packages (from Flask) (3.1.3)\n",
      "Requirement already satisfied: itsdangerous>=2.0 in c:\\users\\djsma\\anaconda3\\lib\\site-packages (from Flask) (2.0.1)\n",
      "Requirement already satisfied: click>=8.0 in c:\\users\\djsma\\anaconda3\\lib\\site-packages (from Flask) (8.1.7)\n",
      "Requirement already satisfied: PyYAML>=5.1 in c:\\users\\djsma\\anaconda3\\lib\\site-packages (from pyngrok) (6.0.1)\n",
      "Requirement already satisfied: charset-normalizer<4,>=2 in c:\\users\\djsma\\anaconda3\\lib\\site-packages (from requests) (2.0.4)\n",
      "Requirement already satisfied: idna<4,>=2.5 in c:\\users\\djsma\\anaconda3\\lib\\site-packages (from requests) (3.4)\n",
      "Requirement already satisfied: urllib3<3,>=1.21.1 in c:\\users\\djsma\\anaconda3\\lib\\site-packages (from requests) (2.0.7)\n",
      "Requirement already satisfied: certifi>=2017.4.17 in c:\\users\\djsma\\anaconda3\\lib\\site-packages (from requests) (2024.2.2)\n",
      "Requirement already satisfied: google-ai-generativelanguage==0.4.0 in c:\\users\\djsma\\anaconda3\\lib\\site-packages (from google-generativeai) (0.4.0)\n",
      "Requirement already satisfied: google-auth in c:\\users\\djsma\\anaconda3\\lib\\site-packages (from google-generativeai) (2.23.3)\n",
      "Requirement already satisfied: google-api-core in c:\\users\\djsma\\anaconda3\\lib\\site-packages (from google-generativeai) (2.17.1)\n",
      "Requirement already satisfied: typing-extensions in c:\\users\\djsma\\anaconda3\\lib\\site-packages (from google-generativeai) (4.9.0)\n",
      "Requirement already satisfied: protobuf in c:\\users\\djsma\\anaconda3\\lib\\site-packages (from google-generativeai) (4.24.4)\n",
      "Requirement already satisfied: tqdm in c:\\users\\djsma\\anaconda3\\lib\\site-packages (from google-generativeai) (4.65.0)\n",
      "Requirement already satisfied: proto-plus<2.0.0dev,>=1.22.3 in c:\\users\\djsma\\anaconda3\\lib\\site-packages (from google-ai-generativelanguage==0.4.0->google-generativeai) (1.23.0)\n",
      "Requirement already satisfied: colorama in c:\\users\\djsma\\anaconda3\\lib\\site-packages (from click>=8.0->Flask) (0.4.6)\n",
      "Requirement already satisfied: googleapis-common-protos<2.0.dev0,>=1.56.2 in c:\\users\\djsma\\anaconda3\\lib\\site-packages (from google-api-core->google-generativeai) (1.62.0)\n",
      "Requirement already satisfied: cachetools<6.0,>=2.0.0 in c:\\users\\djsma\\anaconda3\\lib\\site-packages (from google-auth->google-generativeai) (5.3.2)\n",
      "Requirement already satisfied: pyasn1-modules>=0.2.1 in c:\\users\\djsma\\anaconda3\\lib\\site-packages (from google-auth->google-generativeai) (0.2.8)\n",
      "Requirement already satisfied: rsa<5,>=3.1.4 in c:\\users\\djsma\\anaconda3\\lib\\site-packages (from google-auth->google-generativeai) (4.9)\n",
      "Requirement already satisfied: MarkupSafe>=2.0 in c:\\users\\djsma\\anaconda3\\lib\\site-packages (from Jinja2>=3.0->Flask) (2.1.3)\n",
      "Requirement already satisfied: six>=1.5 in c:\\users\\djsma\\anaconda3\\lib\\site-packages (from python-dateutil>=2.7->matplotlib) (1.16.0)\n",
      "Requirement already satisfied: grpcio<2.0dev,>=1.33.2 in c:\\users\\djsma\\anaconda3\\lib\\site-packages (from google-api-core[grpc]!=2.0.*,!=2.1.*,!=2.10.*,!=2.2.*,!=2.3.*,!=2.4.*,!=2.5.*,!=2.6.*,!=2.7.*,!=2.8.*,!=2.9.*,<3.0.0dev,>=1.34.0->google-ai-generativelanguage==0.4.0->google-generativeai) (1.62.0)\n",
      "Requirement already satisfied: grpcio-status<2.0.dev0,>=1.33.2 in c:\\users\\djsma\\anaconda3\\lib\\site-packages (from google-api-core[grpc]!=2.0.*,!=2.1.*,!=2.10.*,!=2.2.*,!=2.3.*,!=2.4.*,!=2.5.*,!=2.6.*,!=2.7.*,!=2.8.*,!=2.9.*,<3.0.0dev,>=1.34.0->google-ai-generativelanguage==0.4.0->google-generativeai) (1.62.0)\n",
      "Requirement already satisfied: pyasn1<0.5.0,>=0.4.6 in c:\\users\\djsma\\anaconda3\\lib\\site-packages (from pyasn1-modules>=0.2.1->google-auth->google-generativeai) (0.4.8)\n"
     ]
    }
   ],
   "source": [
    "!pip install flask-cors opencv-python matplotlib Flask pyngrok numpy requests pybase64 google-generativeai\n"
   ]
  },
  {
   "cell_type": "code",
   "execution_count": 3,
   "metadata": {},
   "outputs": [],
   "source": [
    "import cv2\n",
    "import matplotlib.pyplot as plt\n",
    "from flask import *\n",
    "from pyngrok import ngrok\n",
    "import json"
   ]
  },
  {
   "cell_type": "code",
   "execution_count": 4,
   "metadata": {},
   "outputs": [],
   "source": [
    "port_no = 3030\n",
    "from flask_cors import CORS"
   ]
  },
  {
   "cell_type": "code",
   "execution_count": null,
   "metadata": {},
   "outputs": [],
   "source": []
  }
 ],
 "metadata": {
  "kernelspec": {
   "display_name": "base",
   "language": "python",
   "name": "python3"
  },
  "language_info": {
   "codemirror_mode": {
    "name": "ipython",
    "version": 3
   },
   "file_extension": ".py",
   "mimetype": "text/x-python",
   "name": "python",
   "nbconvert_exporter": "python",
   "pygments_lexer": "ipython3",
   "version": "3.11.8"
  }
 },
 "nbformat": 4,
 "nbformat_minor": 2
}
